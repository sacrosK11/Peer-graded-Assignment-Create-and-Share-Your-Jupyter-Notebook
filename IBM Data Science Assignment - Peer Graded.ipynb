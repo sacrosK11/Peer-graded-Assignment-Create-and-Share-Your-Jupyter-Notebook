{
 "cells": [
  {
   "cell_type": "markdown",
   "id": "1163fd39-2cc1-4be3-97a4-b0a71ab1ac20",
   "metadata": {},
   "source": [
    "<h1><strong>IBM DATA SCIENCE ASSIGNMENT</strong></h1>"
   ]
  },
  {
   "cell_type": "markdown",
   "id": "be27159f-d90a-4ee5-84c3-c26330d8524b",
   "metadata": {},
   "source": [
    "<h3>Most used programming languages in Data Science</h3>"
   ]
  },
  {
   "cell_type": "markdown",
   "id": "fc1f0f6e-ce16-46d1-8e00-a96f53225967",
   "metadata": {},
   "source": [
    "<ol>\n",
    "<li> Python\n",
    "<li> R\n",
    "<li> SQL\n",
    "<li> Julia\n",
    "<li> Scala\n",
    "</ol>    \n"
   ]
  },
  {
   "cell_type": "markdown",
   "id": "5cba769a-68ba-4c07-9866-4c211295c0fe",
   "metadata": {},
   "source": [
    "<ol>\n",
    "<li> Pandas\n",
    "<li> Matplotlib\n",
    "<li> Numpy\n",
    "<li> plotty\n",
    "<li> Spark\n",
    "</ol>    "
   ]
  },
  {
   "cell_type": "markdown",
   "id": "36514c29-92df-4bab-8911-330d8a6bfcfc",
   "metadata": {},
   "source": [
    "|Tools for Data science |\n",
    "|-----|\n",
    "|Jupyter Notebook |\n",
    "|RStudio|\n",
    "|Watson Studio|\n",
    "|SPSS Modeler|\n",
    "|SPSS Statistics|\n"
   ]
  },
  {
   "cell_type": "markdown",
   "id": "bbae1d3e-0b05-4921-a93d-aa44d2d31bb5",
   "metadata": {},
   "source": [
    "<h2><em> Math Operations </em></h2>"
   ]
  },
  {
   "cell_type": "code",
   "execution_count": 6,
   "id": "ea3f6f97-6da8-4a16-8084-347e7c780306",
   "metadata": {},
   "outputs": [
    {
     "name": "stdout",
     "output_type": "stream",
     "text": [
      "-21\n"
     ]
    }
   ],
   "source": [
    "x = 2\n",
    "y = 5\n",
    "print((x+y)*(x-y))"
   ]
  },
  {
   "cell_type": "code",
   "execution_count": 26,
   "id": "9f56d6be-812b-4b2a-b62a-824f5d1415a4",
   "metadata": {},
   "outputs": [
    {
     "name": "stdout",
     "output_type": "stream",
     "text": [
      "100 minutes = 1:40 hour\n"
     ]
    }
   ],
   "source": [
    "min = 100\n",
    "decimal_hour = int(min/60)\n",
    "rest = min%60\n",
    "hour = f'{decimal_hour}:{rest}'\n",
    "\n",
    "print(f'{min} minutes = {hour} hour')"
   ]
  },
  {
   "cell_type": "markdown",
   "id": "aa825d04-5818-4990-b8f6-e95978334df0",
   "metadata": {},
   "source": [
    "My actual objectives are to:\n",
    "<ol>\n",
    "<li>keep learning python, SQL and Linux Shell\n",
    "<li>study in depth Machine Learning and Deep Learning\n",
    "<li>find some stage or little job opportunity\n",
    "<li>create some little project with a little team or by myself\n",
    "</ol>"
   ]
  }
 ],
 "metadata": {
  "kernelspec": {
   "display_name": "Python",
   "language": "python",
   "name": "conda-env-python-py"
  },
  "language_info": {
   "codemirror_mode": {
    "name": "ipython",
    "version": 3
   },
   "file_extension": ".py",
   "mimetype": "text/x-python",
   "name": "python",
   "nbconvert_exporter": "python",
   "pygments_lexer": "ipython3",
   "version": "3.7.12"
  }
 },
 "nbformat": 4,
 "nbformat_minor": 5
}
